{
 "cells": [
  {
   "cell_type": "code",
   "execution_count": 166,
   "metadata": {},
   "outputs": [],
   "source": [
    "import numpy as np\n",
    "import matplotlib.pyplot as plt\n",
    "import pandas as pd\n",
    "import sys\n",
    "sys.path.insert(1,'../Level4_UMDOTS_CampusTrafficCount')\n",
    "import seaborn as sns\n",
    "from collections import Counter"
   ]
  },
  {
   "cell_type": "code",
   "execution_count": 167,
   "metadata": {
    "scrolled": true
   },
   "outputs": [
    {
     "data": {
      "text/html": [
       "<div>\n",
       "<style scoped>\n",
       "    .dataframe tbody tr th:only-of-type {\n",
       "        vertical-align: middle;\n",
       "    }\n",
       "\n",
       "    .dataframe tbody tr th {\n",
       "        vertical-align: top;\n",
       "    }\n",
       "\n",
       "    .dataframe thead th {\n",
       "        text-align: right;\n",
       "    }\n",
       "</style>\n",
       "<table border=\"1\" class=\"dataframe\">\n",
       "  <thead>\n",
       "    <tr style=\"text-align: right;\">\n",
       "      <th></th>\n",
       "      <th>time</th>\n",
       "      <th>pedestrians</th>\n",
       "      <th>bicyclists</th>\n",
       "      <th>cars</th>\n",
       "      <th>buses</th>\n",
       "      <th>trucks</th>\n",
       "      <th>location</th>\n",
       "    </tr>\n",
       "  </thead>\n",
       "  <tbody>\n",
       "    <tr>\n",
       "      <th>0</th>\n",
       "      <td>2019-10-28T00:00:00-04:00</td>\n",
       "      <td>0</td>\n",
       "      <td>0</td>\n",
       "      <td>0</td>\n",
       "      <td>0</td>\n",
       "      <td>0</td>\n",
       "      <td>Campus_Dr_&amp;_Presidential_Ave</td>\n",
       "    </tr>\n",
       "    <tr>\n",
       "      <th>1</th>\n",
       "      <td>2019-10-28T00:15:00-04:00</td>\n",
       "      <td>0</td>\n",
       "      <td>0</td>\n",
       "      <td>0</td>\n",
       "      <td>0</td>\n",
       "      <td>0</td>\n",
       "      <td>Campus_Dr_&amp;_Presidential_Ave</td>\n",
       "    </tr>\n",
       "    <tr>\n",
       "      <th>2</th>\n",
       "      <td>2019-10-28T00:30:00-04:00</td>\n",
       "      <td>0</td>\n",
       "      <td>0</td>\n",
       "      <td>0</td>\n",
       "      <td>0</td>\n",
       "      <td>0</td>\n",
       "      <td>Campus_Dr_&amp;_Presidential_Ave</td>\n",
       "    </tr>\n",
       "    <tr>\n",
       "      <th>3</th>\n",
       "      <td>2019-10-28T00:45:00-04:00</td>\n",
       "      <td>0</td>\n",
       "      <td>0</td>\n",
       "      <td>0</td>\n",
       "      <td>0</td>\n",
       "      <td>0</td>\n",
       "      <td>Campus_Dr_&amp;_Presidential_Ave</td>\n",
       "    </tr>\n",
       "    <tr>\n",
       "      <th>4</th>\n",
       "      <td>2019-10-28T01:00:00-04:00</td>\n",
       "      <td>0</td>\n",
       "      <td>0</td>\n",
       "      <td>0</td>\n",
       "      <td>0</td>\n",
       "      <td>0</td>\n",
       "      <td>Campus_Dr_&amp;_Presidential_Ave</td>\n",
       "    </tr>\n",
       "    <tr>\n",
       "      <th>...</th>\n",
       "      <td>...</td>\n",
       "      <td>...</td>\n",
       "      <td>...</td>\n",
       "      <td>...</td>\n",
       "      <td>...</td>\n",
       "      <td>...</td>\n",
       "      <td>...</td>\n",
       "    </tr>\n",
       "    <tr>\n",
       "      <th>13475</th>\n",
       "      <td>2019-11-10T23:45:00-04:00</td>\n",
       "      <td>0</td>\n",
       "      <td>0</td>\n",
       "      <td>2</td>\n",
       "      <td>0</td>\n",
       "      <td>0</td>\n",
       "      <td>University_Blvd_&amp;_Paint_Branch_Dr</td>\n",
       "    </tr>\n",
       "    <tr>\n",
       "      <th>13476</th>\n",
       "      <td>2019-11-11T00:00:00-04:00</td>\n",
       "      <td>0</td>\n",
       "      <td>0</td>\n",
       "      <td>0</td>\n",
       "      <td>0</td>\n",
       "      <td>0</td>\n",
       "      <td>University_Blvd_&amp;_Paint_Branch_Dr</td>\n",
       "    </tr>\n",
       "    <tr>\n",
       "      <th>13477</th>\n",
       "      <td>2019-11-11T00:15:00-04:00</td>\n",
       "      <td>0</td>\n",
       "      <td>1</td>\n",
       "      <td>3</td>\n",
       "      <td>0</td>\n",
       "      <td>0</td>\n",
       "      <td>University_Blvd_&amp;_Paint_Branch_Dr</td>\n",
       "    </tr>\n",
       "    <tr>\n",
       "      <th>13478</th>\n",
       "      <td>2019-11-11T00:30:00-04:00</td>\n",
       "      <td>0</td>\n",
       "      <td>1</td>\n",
       "      <td>2</td>\n",
       "      <td>0</td>\n",
       "      <td>0</td>\n",
       "      <td>University_Blvd_&amp;_Paint_Branch_Dr</td>\n",
       "    </tr>\n",
       "    <tr>\n",
       "      <th>13479</th>\n",
       "      <td>2019-11-11T00:45:00-04:00</td>\n",
       "      <td>0</td>\n",
       "      <td>0</td>\n",
       "      <td>3</td>\n",
       "      <td>0</td>\n",
       "      <td>0</td>\n",
       "      <td>University_Blvd_&amp;_Paint_Branch_Dr</td>\n",
       "    </tr>\n",
       "  </tbody>\n",
       "</table>\n",
       "<p>13480 rows × 7 columns</p>\n",
       "</div>"
      ],
      "text/plain": [
       "                            time  pedestrians  bicyclists  cars  buses  \\\n",
       "0      2019-10-28T00:00:00-04:00            0           0     0      0   \n",
       "1      2019-10-28T00:15:00-04:00            0           0     0      0   \n",
       "2      2019-10-28T00:30:00-04:00            0           0     0      0   \n",
       "3      2019-10-28T00:45:00-04:00            0           0     0      0   \n",
       "4      2019-10-28T01:00:00-04:00            0           0     0      0   \n",
       "...                          ...          ...         ...   ...    ...   \n",
       "13475  2019-11-10T23:45:00-04:00            0           0     2      0   \n",
       "13476  2019-11-11T00:00:00-04:00            0           0     0      0   \n",
       "13477  2019-11-11T00:15:00-04:00            0           1     3      0   \n",
       "13478  2019-11-11T00:30:00-04:00            0           1     2      0   \n",
       "13479  2019-11-11T00:45:00-04:00            0           0     3      0   \n",
       "\n",
       "       trucks                           location  \n",
       "0           0       Campus_Dr_&_Presidential_Ave  \n",
       "1           0       Campus_Dr_&_Presidential_Ave  \n",
       "2           0       Campus_Dr_&_Presidential_Ave  \n",
       "3           0       Campus_Dr_&_Presidential_Ave  \n",
       "4           0       Campus_Dr_&_Presidential_Ave  \n",
       "...       ...                                ...  \n",
       "13475       0  University_Blvd_&_Paint_Branch_Dr  \n",
       "13476       0  University_Blvd_&_Paint_Branch_Dr  \n",
       "13477       0  University_Blvd_&_Paint_Branch_Dr  \n",
       "13478       0  University_Blvd_&_Paint_Branch_Dr  \n",
       "13479       0  University_Blvd_&_Paint_Branch_Dr  \n",
       "\n",
       "[13480 rows x 7 columns]"
      ]
     },
     "execution_count": 167,
     "metadata": {},
     "output_type": "execute_result"
    }
   ],
   "source": [
    "# Importing the dataset\n",
    "myData = pd.read_csv('Data_Level4_UMDOTS_CampusTrafficCount.csv')\n",
    "myData"
   ]
  },
  {
   "cell_type": "code",
   "execution_count": 168,
   "metadata": {},
   "outputs": [
    {
     "data": {
      "text/plain": [
       "Counter({'Campus_Dr_&_Presidential_Ave': 1348,\n",
       "         'Campus_Dr_At_Paint_Branch_Dr': 1348,\n",
       "         'Paint_Branch_Dr_At_Campus_Dr': 1348,\n",
       "         'Regents_Dr_&_Stadium_Dr_1': 1348,\n",
       "         'Regents_Dr_&_Stadium_Dr_2': 1348,\n",
       "         'Regents_Dr_&_Stadium_Dr_3': 1348,\n",
       "         'South_Gate_Northern_View': 1348,\n",
       "         'South_Gate_South_View': 1348,\n",
       "         'Stadium_Dr_East_Of_Regents_Dr': 1348,\n",
       "         'University_Blvd_&_Paint_Branch_Dr': 1348})"
      ]
     },
     "execution_count": 168,
     "metadata": {},
     "output_type": "execute_result"
    }
   ],
   "source": [
    "location=myData.iloc[:,-1].values\n",
    "cnt = Counter()\n",
    "for word in location:\n",
    "    cnt[word] += 1\n",
    "cnt"
   ]
  },
  {
   "cell_type": "code",
   "execution_count": 169,
   "metadata": {},
   "outputs": [
    {
     "data": {
      "text/plain": [
       "(10, 1348, 7)"
      ]
     },
     "execution_count": 169,
     "metadata": {},
     "output_type": "execute_result"
    }
   ],
   "source": [
    "sensor=[]\n",
    "for i in range(0,10):\n",
    "    sensor.append(myData.iloc[1348*i:1348*(i+1),:].values)\n",
    "    \n",
    "sensor=np.array(sensor)\n",
    "sensor.shape"
   ]
  },
  {
   "cell_type": "code",
   "execution_count": 170,
   "metadata": {},
   "outputs": [],
   "source": [
    "sensor1=sensor[0]\n",
    "sensor2=sensor[1]\n",
    "sensor3=sensor[2]\n",
    "sensor4=sensor[3]\n",
    "sensor5=sensor[4]\n",
    "sensor6=sensor[5]\n",
    "sensor7=sensor[6]\n",
    "sensor8=sensor[7]\n",
    "sensor9=sensor[8]\n",
    "sensor10=sensor[9]"
   ]
  },
  {
   "cell_type": "code",
   "execution_count": 179,
   "metadata": {},
   "outputs": [
    {
     "data": {
      "text/plain": [
       "(1348, 7)"
      ]
     },
     "execution_count": 179,
     "metadata": {},
     "output_type": "execute_result"
    }
   ],
   "source": [
    "sensor1.shape\n"
   ]
  },
  {
   "cell_type": "code",
   "execution_count": 180,
   "metadata": {},
   "outputs": [
    {
     "data": {
      "text/plain": [
       "'2019-10-28T00:30:00-04:00'"
      ]
     },
     "execution_count": 180,
     "metadata": {},
     "output_type": "execute_result"
    }
   ],
   "source": [
    "sensor1[2][0]"
   ]
  },
  {
   "cell_type": "code",
   "execution_count": 223,
   "metadata": {},
   "outputs": [],
   "source": [
    "time=[]\n",
    "for i in range(0,sensor1.shape[0]):\n",
    "    time.append(sensor1[i][0][11:16])"
   ]
  },
  {
   "cell_type": "code",
   "execution_count": 174,
   "metadata": {},
   "outputs": [],
   "source": [
    "date=[]\n",
    "for i in range(0,sensor1.shape[0]):\n",
    "    date.append(sensor1[i][0][0:10])"
   ]
  },
  {
   "cell_type": "code",
   "execution_count": 248,
   "metadata": {
    "scrolled": true
   },
   "outputs": [],
   "source": [
    "time=time[0:96]"
   ]
  },
  {
   "cell_type": "code",
   "execution_count": 274,
   "metadata": {},
   "outputs": [
    {
     "data": {
      "text/plain": [
       "1348"
      ]
     },
     "execution_count": 274,
     "metadata": {},
     "output_type": "execute_result"
    }
   ],
   "source": [
    "pedestrian1=pedestrian[0]\n",
    "len(pedestrian1)"
   ]
  },
  {
   "cell_type": "code",
   "execution_count": 275,
   "metadata": {},
   "outputs": [
    {
     "data": {
      "text/plain": [
       "337"
      ]
     },
     "execution_count": 275,
     "metadata": {},
     "output_type": "execute_result"
    }
   ],
   "source": [
    "pedestrian1=pedestrian[0]\n",
    "temp = [sum(pedestrian1[i:i+4]) for i in range(0, len(pedestrian1),4)]\n",
    "len(temp)"
   ]
  },
  {
   "cell_type": "code",
   "execution_count": null,
   "metadata": {},
   "outputs": [],
   "source": []
  }
 ],
 "metadata": {
  "kernelspec": {
   "display_name": "Python 3",
   "language": "python",
   "name": "python3"
  },
  "language_info": {
   "codemirror_mode": {
    "name": "ipython",
    "version": 3
   },
   "file_extension": ".py",
   "mimetype": "text/x-python",
   "name": "python",
   "nbconvert_exporter": "python",
   "pygments_lexer": "ipython3",
   "version": "3.7.6"
  }
 },
 "nbformat": 4,
 "nbformat_minor": 2
}
