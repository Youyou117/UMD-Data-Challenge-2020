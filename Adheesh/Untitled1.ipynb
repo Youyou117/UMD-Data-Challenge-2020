{
 "cells": [
  {
   "cell_type": "code",
   "execution_count": 22,
   "metadata": {},
   "outputs": [],
   "source": [
    "import numpy as np\n",
    "import matplotlib.pyplot as plt\n",
    "import pandas as pd\n",
    "import sys\n",
    "sys.path.insert(1,'../Level4_UMDOTS_CampusTrafficCount')\n",
    "import seaborn as sns\n",
    "from collections import Counter"
   ]
  },
  {
   "cell_type": "code",
   "execution_count": 46,
   "metadata": {},
   "outputs": [
    {
     "data": {
      "text/html": [
       "<div>\n",
       "<style scoped>\n",
       "    .dataframe tbody tr th:only-of-type {\n",
       "        vertical-align: middle;\n",
       "    }\n",
       "\n",
       "    .dataframe tbody tr th {\n",
       "        vertical-align: top;\n",
       "    }\n",
       "\n",
       "    .dataframe thead th {\n",
       "        text-align: right;\n",
       "    }\n",
       "</style>\n",
       "<table border=\"1\" class=\"dataframe\">\n",
       "  <thead>\n",
       "    <tr style=\"text-align: right;\">\n",
       "      <th></th>\n",
       "      <th>AWS  WBAN YR--MODAHRMN DIR SPD GUS CLG SKC L M H  VSB WW WW WW W TEMP DEWP    SLP   ALT    STP MAX MIN PCP01 PCP06 PCP24 PCPXX SD</th>\n",
       "    </tr>\n",
       "  </thead>\n",
       "  <tbody>\n",
       "    <tr>\n",
       "      <th>0</th>\n",
       "      <td>722280 13876 200301010053 140  11 ***  49 OVC ...</td>\n",
       "    </tr>\n",
       "    <tr>\n",
       "      <th>1</th>\n",
       "      <td>722280 13876 200301010153 140  13 ***  25 OVC ...</td>\n",
       "    </tr>\n",
       "    <tr>\n",
       "      <th>2</th>\n",
       "      <td>722280 13876 200301010253 170  14  21  14 OVC ...</td>\n",
       "    </tr>\n",
       "    <tr>\n",
       "      <th>3</th>\n",
       "      <td>722280 13876 200301010316 160   9  16  79 BKN ...</td>\n",
       "    </tr>\n",
       "    <tr>\n",
       "      <th>4</th>\n",
       "      <td>722280 13876 200301010353 150   9 *** 108 BKN ...</td>\n",
       "    </tr>\n",
       "    <tr>\n",
       "      <th>...</th>\n",
       "      <td>...</td>\n",
       "    </tr>\n",
       "    <tr>\n",
       "      <th>879</th>\n",
       "      <td>722280 13876 200301311953 220   9 *** 722 SCT ...</td>\n",
       "    </tr>\n",
       "    <tr>\n",
       "      <th>880</th>\n",
       "      <td>722280 13876 200301312053 250  14 *** 722 SCT ...</td>\n",
       "    </tr>\n",
       "    <tr>\n",
       "      <th>881</th>\n",
       "      <td>722280 13876 200301312153 260  12 *** 722 *** ...</td>\n",
       "    </tr>\n",
       "    <tr>\n",
       "      <th>882</th>\n",
       "      <td>722280 13876 200301312253 280  16 ***  42 OVC ...</td>\n",
       "    </tr>\n",
       "    <tr>\n",
       "      <th>883</th>\n",
       "      <td>722280 13876 200301312353 270  12 ***  34 OVC ...</td>\n",
       "    </tr>\n",
       "  </tbody>\n",
       "</table>\n",
       "<p>884 rows × 1 columns</p>\n",
       "</div>"
      ],
      "text/plain": [
       "       AWS  WBAN YR--MODAHRMN DIR SPD GUS CLG SKC L M H  VSB WW WW WW W TEMP DEWP    SLP   ALT    STP MAX MIN PCP01 PCP06 PCP24 PCPXX SD\n",
       "0    722280 13876 200301010053 140  11 ***  49 OVC ...                                                                                  \n",
       "1    722280 13876 200301010153 140  13 ***  25 OVC ...                                                                                  \n",
       "2    722280 13876 200301010253 170  14  21  14 OVC ...                                                                                  \n",
       "3    722280 13876 200301010316 160   9  16  79 BKN ...                                                                                  \n",
       "4    722280 13876 200301010353 150   9 *** 108 BKN ...                                                                                  \n",
       "..                                                 ...                                                                                  \n",
       "879  722280 13876 200301311953 220   9 *** 722 SCT ...                                                                                  \n",
       "880  722280 13876 200301312053 250  14 *** 722 SCT ...                                                                                  \n",
       "881  722280 13876 200301312153 260  12 *** 722 *** ...                                                                                  \n",
       "882  722280 13876 200301312253 280  16 ***  42 OVC ...                                                                                  \n",
       "883  722280 13876 200301312353 270  12 ***  34 OVC ...                                                                                  \n",
       "\n",
       "[884 rows x 1 columns]"
      ]
     },
     "execution_count": 46,
     "metadata": {},
     "output_type": "execute_result"
    }
   ],
   "source": [
    "myData = pd.read_excel('MessyWeatherData.xlsx')\n",
    "myData"
   ]
  },
  {
   "cell_type": "code",
   "execution_count": 47,
   "metadata": {},
   "outputs": [],
   "source": [
    "col=myData.columns.ravel()"
   ]
  },
  {
   "cell_type": "code",
   "execution_count": 48,
   "metadata": {},
   "outputs": [],
   "source": [
    "myData=myData.iloc[:,-1].values"
   ]
  },
  {
   "cell_type": "code",
   "execution_count": 50,
   "metadata": {},
   "outputs": [
    {
     "data": {
      "text/plain": [
       "'722280 13876 200301010053 140  11 ***  49 OVC * * * 10.1 00 ** ** *   59   54 1003.8 29.65 ****** *** *** ***** ***** ***** ***** ** '"
      ]
     },
     "execution_count": 50,
     "metadata": {},
     "output_type": "execute_result"
    }
   ],
   "source": [
    "myData[0]"
   ]
  },
  {
   "cell_type": "code",
   "execution_count": 67,
   "metadata": {},
   "outputs": [],
   "source": [
    "AWS=[]\n",
    "WBAN=[]\n",
    "YR_MODAHRMN=[]\n",
    "DIR=[]\n",
    "for i in range(0,len(myData)):\n",
    "    AWS.append(myData[i][0:6])\n",
    "    WBAN.append(myData[i][7:12])\n",
    "    YR_MODAHRMN.append(myData[0][13:25])\n",
    "    DIR.append(myData[0][26:29])\n",
    "    SPD.append(myData[0][31:33])\n",
    "    GUS.append(myData[0][34:37])\n",
    "    CLG.append(myData[0][38:41])\n",
    "    SKC.append(myData[4][42:45])\n",
    "    LMH.append(myData[4][46:51])\n",
    "    "
   ]
  },
  {
   "cell_type": "code",
   "execution_count": 87,
   "metadata": {},
   "outputs": [
    {
     "data": {
      "text/plain": [
       "'* * *'"
      ]
     },
     "execution_count": 87,
     "metadata": {},
     "output_type": "execute_result"
    }
   ],
   "source": []
  },
  {
   "cell_type": "code",
   "execution_count": null,
   "metadata": {},
   "outputs": [],
   "source": []
  }
 ],
 "metadata": {
  "kernelspec": {
   "display_name": "Python 3",
   "language": "python",
   "name": "python3"
  },
  "language_info": {
   "codemirror_mode": {
    "name": "ipython",
    "version": 3
   },
   "file_extension": ".py",
   "mimetype": "text/x-python",
   "name": "python",
   "nbconvert_exporter": "python",
   "pygments_lexer": "ipython3",
   "version": "3.7.6"
  }
 },
 "nbformat": 4,
 "nbformat_minor": 4
}
