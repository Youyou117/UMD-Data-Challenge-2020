{
 "cells": [
  {
   "cell_type": "code",
   "execution_count": 1,
   "metadata": {},
   "outputs": [],
   "source": [
    "import numpy as np\n",
    "import matplotlib.pyplot as plt\n",
    "import pandas as pd\n",
    "import sys\n",
    "sys.path.insert(1,'../Level4_UMDOTS_CampusTrafficCount')\n",
    "import seaborn as sns\n",
    "from collections import Counter"
   ]
  },
  {
   "cell_type": "code",
   "execution_count": 2,
   "metadata": {
    "scrolled": true
   },
   "outputs": [
    {
     "data": {
      "text/html": [
       "<div>\n",
       "<style scoped>\n",
       "    .dataframe tbody tr th:only-of-type {\n",
       "        vertical-align: middle;\n",
       "    }\n",
       "\n",
       "    .dataframe tbody tr th {\n",
       "        vertical-align: top;\n",
       "    }\n",
       "\n",
       "    .dataframe thead th {\n",
       "        text-align: right;\n",
       "    }\n",
       "</style>\n",
       "<table border=\"1\" class=\"dataframe\">\n",
       "  <thead>\n",
       "    <tr style=\"text-align: right;\">\n",
       "      <th></th>\n",
       "      <th>time</th>\n",
       "      <th>pedestrians</th>\n",
       "      <th>bicyclists</th>\n",
       "      <th>cars</th>\n",
       "      <th>buses</th>\n",
       "      <th>trucks</th>\n",
       "      <th>location</th>\n",
       "    </tr>\n",
       "  </thead>\n",
       "  <tbody>\n",
       "    <tr>\n",
       "      <td>0</td>\n",
       "      <td>2019-10-28T00:00:00-04:00</td>\n",
       "      <td>0</td>\n",
       "      <td>0</td>\n",
       "      <td>0</td>\n",
       "      <td>0</td>\n",
       "      <td>0</td>\n",
       "      <td>Campus_Dr_&amp;_Presidential_Ave</td>\n",
       "    </tr>\n",
       "    <tr>\n",
       "      <td>1</td>\n",
       "      <td>2019-10-28T00:15:00-04:00</td>\n",
       "      <td>0</td>\n",
       "      <td>0</td>\n",
       "      <td>0</td>\n",
       "      <td>0</td>\n",
       "      <td>0</td>\n",
       "      <td>Campus_Dr_&amp;_Presidential_Ave</td>\n",
       "    </tr>\n",
       "    <tr>\n",
       "      <td>2</td>\n",
       "      <td>2019-10-28T00:30:00-04:00</td>\n",
       "      <td>0</td>\n",
       "      <td>0</td>\n",
       "      <td>0</td>\n",
       "      <td>0</td>\n",
       "      <td>0</td>\n",
       "      <td>Campus_Dr_&amp;_Presidential_Ave</td>\n",
       "    </tr>\n",
       "    <tr>\n",
       "      <td>3</td>\n",
       "      <td>2019-10-28T00:45:00-04:00</td>\n",
       "      <td>0</td>\n",
       "      <td>0</td>\n",
       "      <td>0</td>\n",
       "      <td>0</td>\n",
       "      <td>0</td>\n",
       "      <td>Campus_Dr_&amp;_Presidential_Ave</td>\n",
       "    </tr>\n",
       "    <tr>\n",
       "      <td>4</td>\n",
       "      <td>2019-10-28T01:00:00-04:00</td>\n",
       "      <td>0</td>\n",
       "      <td>0</td>\n",
       "      <td>0</td>\n",
       "      <td>0</td>\n",
       "      <td>0</td>\n",
       "      <td>Campus_Dr_&amp;_Presidential_Ave</td>\n",
       "    </tr>\n",
       "    <tr>\n",
       "      <td>...</td>\n",
       "      <td>...</td>\n",
       "      <td>...</td>\n",
       "      <td>...</td>\n",
       "      <td>...</td>\n",
       "      <td>...</td>\n",
       "      <td>...</td>\n",
       "      <td>...</td>\n",
       "    </tr>\n",
       "    <tr>\n",
       "      <td>13475</td>\n",
       "      <td>2019-11-10T23:45:00-04:00</td>\n",
       "      <td>0</td>\n",
       "      <td>0</td>\n",
       "      <td>2</td>\n",
       "      <td>0</td>\n",
       "      <td>0</td>\n",
       "      <td>University_Blvd_&amp;_Paint_Branch_Dr</td>\n",
       "    </tr>\n",
       "    <tr>\n",
       "      <td>13476</td>\n",
       "      <td>2019-11-11T00:00:00-04:00</td>\n",
       "      <td>0</td>\n",
       "      <td>0</td>\n",
       "      <td>0</td>\n",
       "      <td>0</td>\n",
       "      <td>0</td>\n",
       "      <td>University_Blvd_&amp;_Paint_Branch_Dr</td>\n",
       "    </tr>\n",
       "    <tr>\n",
       "      <td>13477</td>\n",
       "      <td>2019-11-11T00:15:00-04:00</td>\n",
       "      <td>0</td>\n",
       "      <td>1</td>\n",
       "      <td>3</td>\n",
       "      <td>0</td>\n",
       "      <td>0</td>\n",
       "      <td>University_Blvd_&amp;_Paint_Branch_Dr</td>\n",
       "    </tr>\n",
       "    <tr>\n",
       "      <td>13478</td>\n",
       "      <td>2019-11-11T00:30:00-04:00</td>\n",
       "      <td>0</td>\n",
       "      <td>1</td>\n",
       "      <td>2</td>\n",
       "      <td>0</td>\n",
       "      <td>0</td>\n",
       "      <td>University_Blvd_&amp;_Paint_Branch_Dr</td>\n",
       "    </tr>\n",
       "    <tr>\n",
       "      <td>13479</td>\n",
       "      <td>2019-11-11T00:45:00-04:00</td>\n",
       "      <td>0</td>\n",
       "      <td>0</td>\n",
       "      <td>3</td>\n",
       "      <td>0</td>\n",
       "      <td>0</td>\n",
       "      <td>University_Blvd_&amp;_Paint_Branch_Dr</td>\n",
       "    </tr>\n",
       "  </tbody>\n",
       "</table>\n",
       "<p>13480 rows × 7 columns</p>\n",
       "</div>"
      ],
      "text/plain": [
       "                            time  pedestrians  bicyclists  cars  buses  \\\n",
       "0      2019-10-28T00:00:00-04:00            0           0     0      0   \n",
       "1      2019-10-28T00:15:00-04:00            0           0     0      0   \n",
       "2      2019-10-28T00:30:00-04:00            0           0     0      0   \n",
       "3      2019-10-28T00:45:00-04:00            0           0     0      0   \n",
       "4      2019-10-28T01:00:00-04:00            0           0     0      0   \n",
       "...                          ...          ...         ...   ...    ...   \n",
       "13475  2019-11-10T23:45:00-04:00            0           0     2      0   \n",
       "13476  2019-11-11T00:00:00-04:00            0           0     0      0   \n",
       "13477  2019-11-11T00:15:00-04:00            0           1     3      0   \n",
       "13478  2019-11-11T00:30:00-04:00            0           1     2      0   \n",
       "13479  2019-11-11T00:45:00-04:00            0           0     3      0   \n",
       "\n",
       "       trucks                           location  \n",
       "0           0       Campus_Dr_&_Presidential_Ave  \n",
       "1           0       Campus_Dr_&_Presidential_Ave  \n",
       "2           0       Campus_Dr_&_Presidential_Ave  \n",
       "3           0       Campus_Dr_&_Presidential_Ave  \n",
       "4           0       Campus_Dr_&_Presidential_Ave  \n",
       "...       ...                                ...  \n",
       "13475       0  University_Blvd_&_Paint_Branch_Dr  \n",
       "13476       0  University_Blvd_&_Paint_Branch_Dr  \n",
       "13477       0  University_Blvd_&_Paint_Branch_Dr  \n",
       "13478       0  University_Blvd_&_Paint_Branch_Dr  \n",
       "13479       0  University_Blvd_&_Paint_Branch_Dr  \n",
       "\n",
       "[13480 rows x 7 columns]"
      ]
     },
     "execution_count": 2,
     "metadata": {},
     "output_type": "execute_result"
    }
   ],
   "source": [
    "# Importing the dataset\n",
    "myData = pd.read_csv('Data_Level4_UMDOTS_CampusTrafficCount.csv')\n",
    "myData"
   ]
  },
  {
   "cell_type": "code",
   "execution_count": 3,
   "metadata": {},
   "outputs": [
    {
     "data": {
      "text/plain": [
       "Counter({'Campus_Dr_&_Presidential_Ave': 1348,\n",
       "         'Campus_Dr_At_Paint_Branch_Dr': 1348,\n",
       "         'Paint_Branch_Dr_At_Campus_Dr': 1348,\n",
       "         'Regents_Dr_&_Stadium_Dr_1': 1348,\n",
       "         'Regents_Dr_&_Stadium_Dr_2': 1348,\n",
       "         'Regents_Dr_&_Stadium_Dr_3': 1348,\n",
       "         'South_Gate_Northern_View': 1348,\n",
       "         'South_Gate_South_View': 1348,\n",
       "         'Stadium_Dr_East_Of_Regents_Dr': 1348,\n",
       "         'University_Blvd_&_Paint_Branch_Dr': 1348})"
      ]
     },
     "execution_count": 3,
     "metadata": {},
     "output_type": "execute_result"
    }
   ],
   "source": [
    "location=myData.iloc[:,-1].values\n",
    "cnt = Counter()\n",
    "for word in location:\n",
    "    cnt[word] += 1\n",
    "cnt"
   ]
  },
  {
   "cell_type": "code",
   "execution_count": 4,
   "metadata": {},
   "outputs": [
    {
     "data": {
      "text/plain": [
       "(10, 1348, 7)"
      ]
     },
     "execution_count": 4,
     "metadata": {},
     "output_type": "execute_result"
    }
   ],
   "source": [
    "sensor=[]\n",
    "for i in range(0,10):\n",
    "    sensor.append(myData.iloc[1348*i:1348*(i+1),:].values)\n",
    "    \n",
    "sensor=np.array(sensor)\n",
    "sensor.shape"
   ]
  },
  {
   "cell_type": "code",
   "execution_count": 5,
   "metadata": {},
   "outputs": [],
   "source": [
    "sensor1=sensor[0]\n",
    "sensor2=sensor[1]\n",
    "sensor3=sensor[2]\n",
    "sensor4=sensor[3]\n",
    "sensor5=sensor[4]\n",
    "sensor6=sensor[5]\n",
    "sensor7=sensor[6]\n",
    "sensor8=sensor[7]\n",
    "sensor9=sensor[8]\n",
    "sensor10=sensor[9]"
   ]
  },
  {
   "cell_type": "code",
   "execution_count": 31,
   "metadata": {},
   "outputs": [
    {
     "data": {
      "text/plain": [
       "(1348, 7)"
      ]
     },
     "execution_count": 31,
     "metadata": {},
     "output_type": "execute_result"
    }
   ],
   "source": [
    "sensor6.shape\n"
   ]
  },
  {
   "cell_type": "code",
   "execution_count": 7,
   "metadata": {},
   "outputs": [
    {
     "data": {
      "text/plain": [
       "'2019-10-28T00:30:00-04:00'"
      ]
     },
     "execution_count": 7,
     "metadata": {},
     "output_type": "execute_result"
    }
   ],
   "source": [
    "sensor1[2][0]"
   ]
  },
  {
   "cell_type": "code",
   "execution_count": 8,
   "metadata": {},
   "outputs": [],
   "source": [
    "time=[]\n",
    "for i in range(0,sensor1.shape[0]):\n",
    "    time.append(sensor1[i][0][11:16])"
   ]
  },
  {
   "cell_type": "code",
   "execution_count": 9,
   "metadata": {},
   "outputs": [],
   "source": [
    "date=[]\n",
    "for i in range(0,sensor1.shape[0]):\n",
    "    date.append(sensor1[i][0][0:10])"
   ]
  },
  {
   "cell_type": "code",
   "execution_count": 13,
   "metadata": {
    "scrolled": true
   },
   "outputs": [],
   "source": [
    "time=time[0:96]"
   ]
  },
  {
   "cell_type": "code",
   "execution_count": 21,
   "metadata": {},
   "outputs": [
    {
     "data": {
      "text/plain": [
       "array([3, 4, 2, ..., 18, 6, 7], dtype=object)"
      ]
     },
     "execution_count": 21,
     "metadata": {},
     "output_type": "execute_result"
    }
   ],
   "source": [
    "pedestrian=sensor[:,:,1][5]\n",
    "pedestrian"
   ]
  },
  {
   "cell_type": "code",
   "execution_count": 27,
   "metadata": {
    "scrolled": true
   },
   "outputs": [
    {
     "data": {
      "text/plain": [
       "[10,\n",
       " 1,\n",
       " 3,\n",
       " 4,\n",
       " 5,\n",
       " 8,\n",
       " 6,\n",
       " 370,\n",
       " 1062,\n",
       " 1323,\n",
       " 1391,\n",
       " 1498,\n",
       " 1600,\n",
       " 1628,\n",
       " 1161,\n",
       " 730,\n",
       " 900,\n",
       " 999,\n",
       " 501,\n",
       " 266,\n",
       " 148,\n",
       " 111,\n",
       " 71,\n",
       " 20]"
      ]
     },
     "execution_count": 27,
     "metadata": {},
     "output_type": "execute_result"
    }
   ],
   "source": [
    "mode1 = [sum(pedestrian[0:96][i:i+4]) for i in range(0, len(pedestrian[0:96]),4)]\n",
    "mode1"
   ]
  },
  {
   "cell_type": "code",
   "execution_count": 42,
   "metadata": {},
   "outputs": [
    {
     "data": {
      "text/plain": [
       "array(['Regents_Dr_&_Stadium_Dr_3', 'Regents_Dr_&_Stadium_Dr_3',\n",
       "       'Regents_Dr_&_Stadium_Dr_3', ..., 'Regents_Dr_&_Stadium_Dr_3',\n",
       "       'Regents_Dr_&_Stadium_Dr_3', 'Regents_Dr_&_Stadium_Dr_3'],\n",
       "      dtype=object)"
      ]
     },
     "execution_count": 42,
     "metadata": {},
     "output_type": "execute_result"
    }
   ],
   "source": [
    "location=sensor[:,:,6][5]\n",
    "location"
   ]
  },
  {
   "cell_type": "code",
   "execution_count": 44,
   "metadata": {},
   "outputs": [
    {
     "data": {
      "text/plain": [
       "array(['2019-10-28T00:00:00-04:00', '2019-10-28T00:15:00-04:00',\n",
       "       '2019-10-28T00:30:00-04:00', ..., '2019-11-11T00:15:00-04:00',\n",
       "       '2019-11-11T00:30:00-04:00', '2019-11-11T00:45:00-04:00'],\n",
       "      dtype=object)"
      ]
     },
     "execution_count": 44,
     "metadata": {},
     "output_type": "execute_result"
    }
   ],
   "source": [
    "dates=sensor[:,:,0][5]\n",
    "dates"
   ]
  },
  {
   "cell_type": "code",
   "execution_count": 56,
   "metadata": {
    "scrolled": true
   },
   "outputs": [
    {
     "data": {
      "text/plain": [
       "array(['2019-11-10T00:00:00-04:00', '2019-11-10T00:15:00-04:00',\n",
       "       '2019-11-10T00:30:00-04:00', '2019-11-10T00:45:00-04:00',\n",
       "       '2019-11-10T01:00:00-04:00', '2019-11-10T01:15:00-04:00',\n",
       "       '2019-11-10T01:30:00-04:00', '2019-11-10T01:45:00-04:00',\n",
       "       '2019-11-10T02:00:00-04:00', '2019-11-10T02:15:00-04:00',\n",
       "       '2019-11-10T02:30:00-04:00', '2019-11-10T02:45:00-04:00',\n",
       "       '2019-11-10T03:00:00-04:00', '2019-11-10T03:15:00-04:00',\n",
       "       '2019-11-10T03:30:00-04:00', '2019-11-10T03:45:00-04:00',\n",
       "       '2019-11-10T04:00:00-04:00', '2019-11-10T04:15:00-04:00',\n",
       "       '2019-11-10T04:30:00-04:00', '2019-11-10T04:45:00-04:00',\n",
       "       '2019-11-10T05:00:00-04:00', '2019-11-10T05:15:00-04:00',\n",
       "       '2019-11-10T05:30:00-04:00', '2019-11-10T05:45:00-04:00',\n",
       "       '2019-11-10T06:00:00-04:00', '2019-11-10T06:15:00-04:00',\n",
       "       '2019-11-10T06:30:00-04:00', '2019-11-10T06:45:00-04:00',\n",
       "       '2019-11-10T07:00:00-04:00', '2019-11-10T07:15:00-04:00',\n",
       "       '2019-11-10T07:30:00-04:00', '2019-11-10T07:45:00-04:00',\n",
       "       '2019-11-10T08:00:00-04:00', '2019-11-10T08:15:00-04:00',\n",
       "       '2019-11-10T08:30:00-04:00', '2019-11-10T08:45:00-04:00',\n",
       "       '2019-11-10T09:00:00-04:00', '2019-11-10T09:15:00-04:00',\n",
       "       '2019-11-10T09:30:00-04:00', '2019-11-10T09:45:00-04:00',\n",
       "       '2019-11-10T10:00:00-04:00', '2019-11-10T10:15:00-04:00',\n",
       "       '2019-11-10T10:30:00-04:00', '2019-11-10T10:45:00-04:00',\n",
       "       '2019-11-10T11:00:00-04:00', '2019-11-10T11:15:00-04:00',\n",
       "       '2019-11-10T11:30:00-04:00', '2019-11-10T11:45:00-04:00',\n",
       "       '2019-11-10T12:00:00-04:00', '2019-11-10T12:15:00-04:00',\n",
       "       '2019-11-10T12:30:00-04:00', '2019-11-10T12:45:00-04:00',\n",
       "       '2019-11-10T13:00:00-04:00', '2019-11-10T13:15:00-04:00',\n",
       "       '2019-11-10T13:30:00-04:00', '2019-11-10T13:45:00-04:00',\n",
       "       '2019-11-10T14:00:00-04:00', '2019-11-10T14:15:00-04:00',\n",
       "       '2019-11-10T14:30:00-04:00', '2019-11-10T14:45:00-04:00',\n",
       "       '2019-11-10T15:00:00-04:00', '2019-11-10T15:15:00-04:00',\n",
       "       '2019-11-10T15:30:00-04:00', '2019-11-10T15:45:00-04:00',\n",
       "       '2019-11-10T16:00:00-04:00', '2019-11-10T16:15:00-04:00',\n",
       "       '2019-11-10T16:30:00-04:00', '2019-11-10T16:45:00-04:00',\n",
       "       '2019-11-10T17:00:00-04:00', '2019-11-10T17:15:00-04:00',\n",
       "       '2019-11-10T17:30:00-04:00', '2019-11-10T17:45:00-04:00',\n",
       "       '2019-11-10T18:00:00-04:00', '2019-11-10T18:15:00-04:00',\n",
       "       '2019-11-10T18:30:00-04:00', '2019-11-10T18:45:00-04:00',\n",
       "       '2019-11-10T19:00:00-04:00', '2019-11-10T19:15:00-04:00',\n",
       "       '2019-11-10T19:30:00-04:00', '2019-11-10T19:45:00-04:00',\n",
       "       '2019-11-10T20:00:00-04:00', '2019-11-10T20:15:00-04:00',\n",
       "       '2019-11-10T20:30:00-04:00', '2019-11-10T20:45:00-04:00',\n",
       "       '2019-11-10T21:00:00-04:00', '2019-11-10T21:15:00-04:00',\n",
       "       '2019-11-10T21:30:00-04:00', '2019-11-10T21:45:00-04:00',\n",
       "       '2019-11-10T22:00:00-04:00', '2019-11-10T22:15:00-04:00',\n",
       "       '2019-11-10T22:30:00-04:00', '2019-11-10T22:45:00-04:00',\n",
       "       '2019-11-10T23:00:00-04:00', '2019-11-10T23:15:00-04:00',\n",
       "       '2019-11-10T23:30:00-04:00', '2019-11-10T23:45:00-04:00'],\n",
       "      dtype=object)"
      ]
     },
     "execution_count": 56,
     "metadata": {},
     "output_type": "execute_result"
    }
   ],
   "source": [
    "dates[96*13:96*14]"
   ]
  },
  {
   "cell_type": "code",
   "execution_count": null,
   "metadata": {},
   "outputs": [],
   "source": []
  }
 ],
 "metadata": {
  "kernelspec": {
   "display_name": "Python 3",
   "language": "python",
   "name": "python3"
  },
  "language_info": {
   "codemirror_mode": {
    "name": "ipython",
    "version": 3
   },
   "file_extension": ".py",
   "mimetype": "text/x-python",
   "name": "python",
   "nbconvert_exporter": "python",
   "pygments_lexer": "ipython3",
   "version": "3.7.4"
  }
 },
 "nbformat": 4,
 "nbformat_minor": 2
}
